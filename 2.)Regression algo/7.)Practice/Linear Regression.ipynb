{
 "cells": [
  {
   "cell_type": "code",
   "execution_count": 1,
   "metadata": {},
   "outputs": [],
   "source": [
    "import numpy as np\n",
    "import pandas as pd\n",
    "import matplotlib.pyplot as plt"
   ]
  },
  {
   "cell_type": "code",
   "execution_count": 2,
   "metadata": {},
   "outputs": [],
   "source": [
    "data=pd.read_csv(\"datalr.csv\")"
   ]
  },
  {
   "cell_type": "code",
   "execution_count": 3,
   "metadata": {},
   "outputs": [
    {
     "data": {
      "text/html": [
       "<div>\n",
       "<style scoped>\n",
       "    .dataframe tbody tr th:only-of-type {\n",
       "        vertical-align: middle;\n",
       "    }\n",
       "\n",
       "    .dataframe tbody tr th {\n",
       "        vertical-align: top;\n",
       "    }\n",
       "\n",
       "    .dataframe thead th {\n",
       "        text-align: right;\n",
       "    }\n",
       "</style>\n",
       "<table border=\"1\" class=\"dataframe\">\n",
       "  <thead>\n",
       "    <tr style=\"text-align: right;\">\n",
       "      <th></th>\n",
       "      <th>AT</th>\n",
       "      <th>V</th>\n",
       "      <th>AP</th>\n",
       "      <th>RH</th>\n",
       "      <th>PE</th>\n",
       "    </tr>\n",
       "  </thead>\n",
       "  <tbody>\n",
       "    <tr>\n",
       "      <td>0</td>\n",
       "      <td>14.96</td>\n",
       "      <td>41.76</td>\n",
       "      <td>1024.07</td>\n",
       "      <td>73.17</td>\n",
       "      <td>463.26</td>\n",
       "    </tr>\n",
       "    <tr>\n",
       "      <td>1</td>\n",
       "      <td>25.18</td>\n",
       "      <td>62.96</td>\n",
       "      <td>1020.04</td>\n",
       "      <td>59.08</td>\n",
       "      <td>444.37</td>\n",
       "    </tr>\n",
       "    <tr>\n",
       "      <td>2</td>\n",
       "      <td>5.11</td>\n",
       "      <td>39.40</td>\n",
       "      <td>1012.16</td>\n",
       "      <td>92.14</td>\n",
       "      <td>488.56</td>\n",
       "    </tr>\n",
       "    <tr>\n",
       "      <td>3</td>\n",
       "      <td>20.86</td>\n",
       "      <td>57.32</td>\n",
       "      <td>1010.24</td>\n",
       "      <td>76.64</td>\n",
       "      <td>446.48</td>\n",
       "    </tr>\n",
       "    <tr>\n",
       "      <td>4</td>\n",
       "      <td>10.82</td>\n",
       "      <td>37.50</td>\n",
       "      <td>1009.23</td>\n",
       "      <td>96.62</td>\n",
       "      <td>473.90</td>\n",
       "    </tr>\n",
       "    <tr>\n",
       "      <td>5</td>\n",
       "      <td>26.27</td>\n",
       "      <td>59.44</td>\n",
       "      <td>1012.23</td>\n",
       "      <td>58.77</td>\n",
       "      <td>443.67</td>\n",
       "    </tr>\n",
       "    <tr>\n",
       "      <td>6</td>\n",
       "      <td>15.89</td>\n",
       "      <td>43.96</td>\n",
       "      <td>1014.02</td>\n",
       "      <td>75.24</td>\n",
       "      <td>467.35</td>\n",
       "    </tr>\n",
       "    <tr>\n",
       "      <td>7</td>\n",
       "      <td>9.48</td>\n",
       "      <td>44.71</td>\n",
       "      <td>1019.12</td>\n",
       "      <td>66.43</td>\n",
       "      <td>478.42</td>\n",
       "    </tr>\n",
       "    <tr>\n",
       "      <td>8</td>\n",
       "      <td>14.64</td>\n",
       "      <td>45.00</td>\n",
       "      <td>1021.78</td>\n",
       "      <td>41.25</td>\n",
       "      <td>475.98</td>\n",
       "    </tr>\n",
       "    <tr>\n",
       "      <td>9</td>\n",
       "      <td>11.74</td>\n",
       "      <td>43.56</td>\n",
       "      <td>1015.14</td>\n",
       "      <td>70.72</td>\n",
       "      <td>477.50</td>\n",
       "    </tr>\n",
       "    <tr>\n",
       "      <td>10</td>\n",
       "      <td>17.99</td>\n",
       "      <td>43.72</td>\n",
       "      <td>1008.64</td>\n",
       "      <td>75.04</td>\n",
       "      <td>453.02</td>\n",
       "    </tr>\n",
       "    <tr>\n",
       "      <td>11</td>\n",
       "      <td>20.14</td>\n",
       "      <td>46.93</td>\n",
       "      <td>1014.66</td>\n",
       "      <td>64.22</td>\n",
       "      <td>453.99</td>\n",
       "    </tr>\n",
       "    <tr>\n",
       "      <td>12</td>\n",
       "      <td>24.34</td>\n",
       "      <td>73.50</td>\n",
       "      <td>1011.31</td>\n",
       "      <td>84.15</td>\n",
       "      <td>440.29</td>\n",
       "    </tr>\n",
       "    <tr>\n",
       "      <td>13</td>\n",
       "      <td>25.71</td>\n",
       "      <td>58.59</td>\n",
       "      <td>1012.77</td>\n",
       "      <td>61.83</td>\n",
       "      <td>451.28</td>\n",
       "    </tr>\n",
       "    <tr>\n",
       "      <td>14</td>\n",
       "      <td>26.19</td>\n",
       "      <td>69.34</td>\n",
       "      <td>1009.48</td>\n",
       "      <td>87.59</td>\n",
       "      <td>433.99</td>\n",
       "    </tr>\n",
       "  </tbody>\n",
       "</table>\n",
       "</div>"
      ],
      "text/plain": [
       "       AT      V       AP     RH      PE\n",
       "0   14.96  41.76  1024.07  73.17  463.26\n",
       "1   25.18  62.96  1020.04  59.08  444.37\n",
       "2    5.11  39.40  1012.16  92.14  488.56\n",
       "3   20.86  57.32  1010.24  76.64  446.48\n",
       "4   10.82  37.50  1009.23  96.62  473.90\n",
       "5   26.27  59.44  1012.23  58.77  443.67\n",
       "6   15.89  43.96  1014.02  75.24  467.35\n",
       "7    9.48  44.71  1019.12  66.43  478.42\n",
       "8   14.64  45.00  1021.78  41.25  475.98\n",
       "9   11.74  43.56  1015.14  70.72  477.50\n",
       "10  17.99  43.72  1008.64  75.04  453.02\n",
       "11  20.14  46.93  1014.66  64.22  453.99\n",
       "12  24.34  73.50  1011.31  84.15  440.29\n",
       "13  25.71  58.59  1012.77  61.83  451.28\n",
       "14  26.19  69.34  1009.48  87.59  433.99"
      ]
     },
     "execution_count": 3,
     "metadata": {},
     "output_type": "execute_result"
    }
   ],
   "source": [
    "data.head(15)"
   ]
  },
  {
   "cell_type": "code",
   "execution_count": 4,
   "metadata": {},
   "outputs": [
    {
     "name": "stdout",
     "output_type": "stream",
     "text": [
      "<class 'pandas.core.frame.DataFrame'>\n",
      "RangeIndex: 9568 entries, 0 to 9567\n",
      "Data columns (total 5 columns):\n",
      "AT    9568 non-null float64\n",
      "V     9568 non-null float64\n",
      "AP    9568 non-null float64\n",
      "RH    9568 non-null float64\n",
      "PE    9568 non-null float64\n",
      "dtypes: float64(5)\n",
      "memory usage: 373.9 KB\n"
     ]
    }
   ],
   "source": [
    "data.info()"
   ]
  },
  {
   "cell_type": "code",
   "execution_count": 5,
   "metadata": {},
   "outputs": [],
   "source": [
    "X=data.iloc[:,0:4].values\n",
    "y=data.iloc[:,4].values"
   ]
  },
  {
   "cell_type": "code",
   "execution_count": 6,
   "metadata": {},
   "outputs": [
    {
     "name": "stdout",
     "output_type": "stream",
     "text": [
      "[[  14.96   41.76 1024.07   73.17]\n",
      " [  25.18   62.96 1020.04   59.08]\n",
      " [   5.11   39.4  1012.16   92.14]\n",
      " ...\n",
      " [  31.32   74.33 1012.92   36.48]\n",
      " [  24.48   69.45 1013.86   62.39]\n",
      " [  21.6    62.52 1017.23   67.87]]\n",
      "[463.26 444.37 488.56 ... 429.57 435.74 453.28]\n"
     ]
    }
   ],
   "source": [
    "print(X)\n",
    "print(y)\n",
    "y=y.reshape(len(y),1)"
   ]
  },
  {
   "cell_type": "code",
   "execution_count": 15,
   "metadata": {},
   "outputs": [],
   "source": [
    "from sklearn.preprocessing import StandardScaler\n",
    "ss_X=StandardScaler()\n",
    "ss_y=StandardScaler()\n",
    "X=ss_X.fit_transform(X)\n",
    "y=ss_y.fit_transform(y)"
   ]
  },
  {
   "cell_type": "code",
   "execution_count": 16,
   "metadata": {},
   "outputs": [
    {
     "name": "stdout",
     "output_type": "stream",
     "text": [
      "[[-0.62951938 -0.98729659  1.8204884  -0.00951935]\n",
      " [ 0.74190911  0.68104512  1.1418628  -0.97462052]\n",
      " [-1.95129733 -1.17301765 -0.18507756  1.2898397 ]\n",
      " ...\n",
      " [ 1.56583973  1.57581141 -0.05709854 -2.52261812]\n",
      " [ 0.64797565  1.19177803  0.1011913  -0.74790051]\n",
      " [ 0.26150656  0.64641916  0.66867722 -0.37254534]]\n",
      "[[ 0.52120807]\n",
      " [-0.58566442]\n",
      " [ 2.00367889]\n",
      " ...\n",
      " [-1.45288056]\n",
      " [-1.09134518]\n",
      " [-0.06357687]]\n"
     ]
    }
   ],
   "source": [
    "print(X)\n",
    "print(y)"
   ]
  },
  {
   "cell_type": "code",
   "execution_count": 17,
   "metadata": {},
   "outputs": [],
   "source": [
    "from sklearn.model_selection import train_test_split\n",
    "X_train, X_test, y_train, y_test = train_test_split( X, y, test_size=0.25, random_state=0)"
   ]
  },
  {
   "cell_type": "code",
   "execution_count": 18,
   "metadata": {},
   "outputs": [
    {
     "data": {
      "text/plain": [
       "LinearRegression(copy_X=True, fit_intercept=True, n_jobs=None, normalize=False)"
      ]
     },
     "execution_count": 18,
     "metadata": {},
     "output_type": "execute_result"
    }
   ],
   "source": [
    "from sklearn.linear_model import LinearRegression\n",
    "lr=LinearRegression()\n",
    "lr.fit(X_train,y_train)"
   ]
  },
  {
   "cell_type": "code",
   "execution_count": 27,
   "metadata": {},
   "outputs": [
    {
     "data": {
      "text/plain": [
       "array([[-1.34362365],\n",
       "       [ 0.24670072],\n",
       "       [ 0.49226467],\n",
       "       ...,\n",
       "       [ 1.13581458],\n",
       "       [ 1.23489515],\n",
       "       [-0.72350434]])"
      ]
     },
     "execution_count": 27,
     "metadata": {},
     "output_type": "execute_result"
    }
   ],
   "source": [
    "ss_y.inverse_transform(lr.predict(ss_X.transform(X_test)))\n",
    "#ss_y.inverse_transform(lr.predict(ss_X.transform([[14.96,1.76,024.07,3.17]])))"
   ]
  },
  {
   "cell_type": "code",
   "execution_count": 28,
   "metadata": {},
   "outputs": [],
   "source": [
    "y_pred=lr.predict(X_test)"
   ]
  },
  {
   "cell_type": "code",
   "execution_count": null,
   "metadata": {},
   "outputs": [],
   "source": []
  },
  {
   "cell_type": "code",
   "execution_count": 29,
   "metadata": {},
   "outputs": [],
   "source": [
    "from sklearn.metrics import r2_score"
   ]
  },
  {
   "cell_type": "code",
   "execution_count": 30,
   "metadata": {},
   "outputs": [
    {
     "data": {
      "text/plain": [
       "0.9323789104734466"
      ]
     },
     "execution_count": 30,
     "metadata": {},
     "output_type": "execute_result"
    }
   ],
   "source": [
    "r2_score(y_test,y_pred)"
   ]
  },
  {
   "cell_type": "code",
   "execution_count": null,
   "metadata": {},
   "outputs": [],
   "source": []
  }
 ],
 "metadata": {
  "kernelspec": {
   "display_name": "Python 3",
   "language": "python",
   "name": "python3"
  },
  "language_info": {
   "codemirror_mode": {
    "name": "ipython",
    "version": 3
   },
   "file_extension": ".py",
   "mimetype": "text/x-python",
   "name": "python",
   "nbconvert_exporter": "python",
   "pygments_lexer": "ipython3",
   "version": "3.7.4"
  }
 },
 "nbformat": 4,
 "nbformat_minor": 2
}
