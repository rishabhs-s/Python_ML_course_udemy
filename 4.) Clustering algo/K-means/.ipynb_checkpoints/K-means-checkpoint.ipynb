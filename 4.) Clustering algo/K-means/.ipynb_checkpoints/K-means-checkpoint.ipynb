{
 "cells": [
  {
   "cell_type": "code",
   "execution_count": 1,
   "metadata": {},
   "outputs": [],
   "source": [
    "import pandas as pd\n",
    "import numpy as np\n",
    "import matplotlib.pyplot as plt\n",
    "import seaborn as sns"
   ]
  },
  {
   "cell_type": "code",
   "execution_count": 2,
   "metadata": {},
   "outputs": [],
   "source": [
    "data=pd.read_csv(\"Mall_Customers.csv\")"
   ]
  },
  {
   "cell_type": "code",
   "execution_count": 3,
   "metadata": {},
   "outputs": [
    {
     "name": "stdout",
     "output_type": "stream",
     "text": [
      "<class 'pandas.core.frame.DataFrame'>\n",
      "RangeIndex: 200 entries, 0 to 199\n",
      "Data columns (total 5 columns):\n",
      "CustomerID                200 non-null int64\n",
      "Genre                     200 non-null object\n",
      "Age                       200 non-null int64\n",
      "Annual Income (k$)        200 non-null int64\n",
      "Spending Score (1-100)    200 non-null int64\n",
      "dtypes: int64(4), object(1)\n",
      "memory usage: 7.9+ KB\n"
     ]
    }
   ],
   "source": [
    "data.info()"
   ]
  },
  {
   "cell_type": "code",
   "execution_count": 4,
   "metadata": {},
   "outputs": [
    {
     "data": {
      "text/html": [
       "<div>\n",
       "<style scoped>\n",
       "    .dataframe tbody tr th:only-of-type {\n",
       "        vertical-align: middle;\n",
       "    }\n",
       "\n",
       "    .dataframe tbody tr th {\n",
       "        vertical-align: top;\n",
       "    }\n",
       "\n",
       "    .dataframe thead th {\n",
       "        text-align: right;\n",
       "    }\n",
       "</style>\n",
       "<table border=\"1\" class=\"dataframe\">\n",
       "  <thead>\n",
       "    <tr style=\"text-align: right;\">\n",
       "      <th></th>\n",
       "      <th>CustomerID</th>\n",
       "      <th>Genre</th>\n",
       "      <th>Age</th>\n",
       "      <th>Annual Income (k$)</th>\n",
       "      <th>Spending Score (1-100)</th>\n",
       "    </tr>\n",
       "  </thead>\n",
       "  <tbody>\n",
       "    <tr>\n",
       "      <td>0</td>\n",
       "      <td>1</td>\n",
       "      <td>Male</td>\n",
       "      <td>19</td>\n",
       "      <td>15</td>\n",
       "      <td>39</td>\n",
       "    </tr>\n",
       "    <tr>\n",
       "      <td>1</td>\n",
       "      <td>2</td>\n",
       "      <td>Male</td>\n",
       "      <td>21</td>\n",
       "      <td>15</td>\n",
       "      <td>81</td>\n",
       "    </tr>\n",
       "    <tr>\n",
       "      <td>2</td>\n",
       "      <td>3</td>\n",
       "      <td>Female</td>\n",
       "      <td>20</td>\n",
       "      <td>16</td>\n",
       "      <td>6</td>\n",
       "    </tr>\n",
       "    <tr>\n",
       "      <td>3</td>\n",
       "      <td>4</td>\n",
       "      <td>Female</td>\n",
       "      <td>23</td>\n",
       "      <td>16</td>\n",
       "      <td>77</td>\n",
       "    </tr>\n",
       "    <tr>\n",
       "      <td>4</td>\n",
       "      <td>5</td>\n",
       "      <td>Female</td>\n",
       "      <td>31</td>\n",
       "      <td>17</td>\n",
       "      <td>40</td>\n",
       "    </tr>\n",
       "    <tr>\n",
       "      <td>...</td>\n",
       "      <td>...</td>\n",
       "      <td>...</td>\n",
       "      <td>...</td>\n",
       "      <td>...</td>\n",
       "      <td>...</td>\n",
       "    </tr>\n",
       "    <tr>\n",
       "      <td>195</td>\n",
       "      <td>196</td>\n",
       "      <td>Female</td>\n",
       "      <td>35</td>\n",
       "      <td>120</td>\n",
       "      <td>79</td>\n",
       "    </tr>\n",
       "    <tr>\n",
       "      <td>196</td>\n",
       "      <td>197</td>\n",
       "      <td>Female</td>\n",
       "      <td>45</td>\n",
       "      <td>126</td>\n",
       "      <td>28</td>\n",
       "    </tr>\n",
       "    <tr>\n",
       "      <td>197</td>\n",
       "      <td>198</td>\n",
       "      <td>Male</td>\n",
       "      <td>32</td>\n",
       "      <td>126</td>\n",
       "      <td>74</td>\n",
       "    </tr>\n",
       "    <tr>\n",
       "      <td>198</td>\n",
       "      <td>199</td>\n",
       "      <td>Male</td>\n",
       "      <td>32</td>\n",
       "      <td>137</td>\n",
       "      <td>18</td>\n",
       "    </tr>\n",
       "    <tr>\n",
       "      <td>199</td>\n",
       "      <td>200</td>\n",
       "      <td>Male</td>\n",
       "      <td>30</td>\n",
       "      <td>137</td>\n",
       "      <td>83</td>\n",
       "    </tr>\n",
       "  </tbody>\n",
       "</table>\n",
       "<p>200 rows × 5 columns</p>\n",
       "</div>"
      ],
      "text/plain": [
       "     CustomerID   Genre  Age  Annual Income (k$)  Spending Score (1-100)\n",
       "0             1    Male   19                  15                      39\n",
       "1             2    Male   21                  15                      81\n",
       "2             3  Female   20                  16                       6\n",
       "3             4  Female   23                  16                      77\n",
       "4             5  Female   31                  17                      40\n",
       "..          ...     ...  ...                 ...                     ...\n",
       "195         196  Female   35                 120                      79\n",
       "196         197  Female   45                 126                      28\n",
       "197         198    Male   32                 126                      74\n",
       "198         199    Male   32                 137                      18\n",
       "199         200    Male   30                 137                      83\n",
       "\n",
       "[200 rows x 5 columns]"
      ]
     },
     "execution_count": 4,
     "metadata": {},
     "output_type": "execute_result"
    }
   ],
   "source": [
    "data"
   ]
  },
  {
   "cell_type": "code",
   "execution_count": 15,
   "metadata": {},
   "outputs": [
    {
     "ename": "TypeError",
     "evalue": "'list' object is not callable",
     "output_type": "error",
     "traceback": [
      "\u001b[1;31m---------------------------------------------------------------------------\u001b[0m",
      "\u001b[1;31mTypeError\u001b[0m                                 Traceback (most recent call last)",
      "\u001b[1;32m<ipython-input-15-a55a183ce237>\u001b[0m in \u001b[0;36m<module>\u001b[1;34m\u001b[0m\n\u001b[1;32m----> 1\u001b[1;33m \u001b[0mdata\u001b[0m\u001b[1;33m.\u001b[0m\u001b[0mcoloums\u001b[0m\u001b[1;33m=\u001b[0m\u001b[1;33m[\u001b[0m\u001b[1;34m'Id'\u001b[0m\u001b[1;33m,\u001b[0m\u001b[1;34m'sex'\u001b[0m\u001b[1;33m,\u001b[0m\u001b[1;34m'age'\u001b[0m\u001b[1;33m,\u001b[0m\u001b[1;34m'income'\u001b[0m\u001b[1;33m,\u001b[0m\u001b[1;34m'score'\u001b[0m\u001b[1;33m]\u001b[0m\u001b[1;33m(\u001b[0m\u001b[0minplace\u001b[0m\u001b[1;33m=\u001b[0m\u001b[1;32mTrue\u001b[0m\u001b[1;33m)\u001b[0m\u001b[1;33m\u001b[0m\u001b[1;33m\u001b[0m\u001b[0m\n\u001b[0m",
      "\u001b[1;31mTypeError\u001b[0m: 'list' object is not callable"
     ]
    }
   ],
   "source": [
    "data.coloums=['Id','sex','age','income','score'](inplace=True)"
   ]
  },
  {
   "cell_type": "code",
   "execution_count": 14,
   "metadata": {},
   "outputs": [
    {
     "data": {
      "text/html": [
       "<div>\n",
       "<style scoped>\n",
       "    .dataframe tbody tr th:only-of-type {\n",
       "        vertical-align: middle;\n",
       "    }\n",
       "\n",
       "    .dataframe tbody tr th {\n",
       "        vertical-align: top;\n",
       "    }\n",
       "\n",
       "    .dataframe thead th {\n",
       "        text-align: right;\n",
       "    }\n",
       "</style>\n",
       "<table border=\"1\" class=\"dataframe\">\n",
       "  <thead>\n",
       "    <tr style=\"text-align: right;\">\n",
       "      <th></th>\n",
       "      <th>CustomerID</th>\n",
       "      <th>Genre</th>\n",
       "      <th>Age</th>\n",
       "      <th>Annual Income (k$)</th>\n",
       "      <th>Spending Score (1-100)</th>\n",
       "    </tr>\n",
       "  </thead>\n",
       "  <tbody>\n",
       "    <tr>\n",
       "      <td>0</td>\n",
       "      <td>1</td>\n",
       "      <td>Male</td>\n",
       "      <td>19</td>\n",
       "      <td>15</td>\n",
       "      <td>39</td>\n",
       "    </tr>\n",
       "    <tr>\n",
       "      <td>1</td>\n",
       "      <td>2</td>\n",
       "      <td>Male</td>\n",
       "      <td>21</td>\n",
       "      <td>15</td>\n",
       "      <td>81</td>\n",
       "    </tr>\n",
       "    <tr>\n",
       "      <td>2</td>\n",
       "      <td>3</td>\n",
       "      <td>Female</td>\n",
       "      <td>20</td>\n",
       "      <td>16</td>\n",
       "      <td>6</td>\n",
       "    </tr>\n",
       "    <tr>\n",
       "      <td>3</td>\n",
       "      <td>4</td>\n",
       "      <td>Female</td>\n",
       "      <td>23</td>\n",
       "      <td>16</td>\n",
       "      <td>77</td>\n",
       "    </tr>\n",
       "    <tr>\n",
       "      <td>4</td>\n",
       "      <td>5</td>\n",
       "      <td>Female</td>\n",
       "      <td>31</td>\n",
       "      <td>17</td>\n",
       "      <td>40</td>\n",
       "    </tr>\n",
       "    <tr>\n",
       "      <td>...</td>\n",
       "      <td>...</td>\n",
       "      <td>...</td>\n",
       "      <td>...</td>\n",
       "      <td>...</td>\n",
       "      <td>...</td>\n",
       "    </tr>\n",
       "    <tr>\n",
       "      <td>195</td>\n",
       "      <td>196</td>\n",
       "      <td>Female</td>\n",
       "      <td>35</td>\n",
       "      <td>120</td>\n",
       "      <td>79</td>\n",
       "    </tr>\n",
       "    <tr>\n",
       "      <td>196</td>\n",
       "      <td>197</td>\n",
       "      <td>Female</td>\n",
       "      <td>45</td>\n",
       "      <td>126</td>\n",
       "      <td>28</td>\n",
       "    </tr>\n",
       "    <tr>\n",
       "      <td>197</td>\n",
       "      <td>198</td>\n",
       "      <td>Male</td>\n",
       "      <td>32</td>\n",
       "      <td>126</td>\n",
       "      <td>74</td>\n",
       "    </tr>\n",
       "    <tr>\n",
       "      <td>198</td>\n",
       "      <td>199</td>\n",
       "      <td>Male</td>\n",
       "      <td>32</td>\n",
       "      <td>137</td>\n",
       "      <td>18</td>\n",
       "    </tr>\n",
       "    <tr>\n",
       "      <td>199</td>\n",
       "      <td>200</td>\n",
       "      <td>Male</td>\n",
       "      <td>30</td>\n",
       "      <td>137</td>\n",
       "      <td>83</td>\n",
       "    </tr>\n",
       "  </tbody>\n",
       "</table>\n",
       "<p>200 rows × 5 columns</p>\n",
       "</div>"
      ],
      "text/plain": [
       "     CustomerID   Genre  Age  Annual Income (k$)  Spending Score (1-100)\n",
       "0             1    Male   19                  15                      39\n",
       "1             2    Male   21                  15                      81\n",
       "2             3  Female   20                  16                       6\n",
       "3             4  Female   23                  16                      77\n",
       "4             5  Female   31                  17                      40\n",
       "..          ...     ...  ...                 ...                     ...\n",
       "195         196  Female   35                 120                      79\n",
       "196         197  Female   45                 126                      28\n",
       "197         198    Male   32                 126                      74\n",
       "198         199    Male   32                 137                      18\n",
       "199         200    Male   30                 137                      83\n",
       "\n",
       "[200 rows x 5 columns]"
      ]
     },
     "execution_count": 14,
     "metadata": {},
     "output_type": "execute_result"
    }
   ],
   "source": [
    "data"
   ]
  },
  {
   "cell_type": "code",
   "execution_count": 6,
   "metadata": {},
   "outputs": [],
   "source": [
    "X=data.iloc[:,1:4].values"
   ]
  },
  {
   "cell_type": "code",
   "execution_count": 7,
   "metadata": {},
   "outputs": [],
   "source": [
    "y=data.iloc[:,4]"
   ]
  },
  {
   "cell_type": "code",
   "execution_count": 8,
   "metadata": {},
   "outputs": [
    {
     "name": "stdout",
     "output_type": "stream",
     "text": [
      "[['Male' 19 15]\n",
      " ['Male' 21 15]\n",
      " ['Female' 20 16]\n",
      " ['Female' 23 16]\n",
      " ['Female' 31 17]\n",
      " ['Female' 22 17]\n",
      " ['Female' 35 18]\n",
      " ['Female' 23 18]\n",
      " ['Male' 64 19]\n",
      " ['Female' 30 19]\n",
      " ['Male' 67 19]\n",
      " ['Female' 35 19]\n",
      " ['Female' 58 20]\n",
      " ['Female' 24 20]\n",
      " ['Male' 37 20]\n",
      " ['Male' 22 20]\n",
      " ['Female' 35 21]\n",
      " ['Male' 20 21]\n",
      " ['Male' 52 23]\n",
      " ['Female' 35 23]\n",
      " ['Male' 35 24]\n",
      " ['Male' 25 24]\n",
      " ['Female' 46 25]\n",
      " ['Male' 31 25]\n",
      " ['Female' 54 28]\n",
      " ['Male' 29 28]\n",
      " ['Female' 45 28]\n",
      " ['Male' 35 28]\n",
      " ['Female' 40 29]\n",
      " ['Female' 23 29]\n",
      " ['Male' 60 30]\n",
      " ['Female' 21 30]\n",
      " ['Male' 53 33]\n",
      " ['Male' 18 33]\n",
      " ['Female' 49 33]\n",
      " ['Female' 21 33]\n",
      " ['Female' 42 34]\n",
      " ['Female' 30 34]\n",
      " ['Female' 36 37]\n",
      " ['Female' 20 37]\n",
      " ['Female' 65 38]\n",
      " ['Male' 24 38]\n",
      " ['Male' 48 39]\n",
      " ['Female' 31 39]\n",
      " ['Female' 49 39]\n",
      " ['Female' 24 39]\n",
      " ['Female' 50 40]\n",
      " ['Female' 27 40]\n",
      " ['Female' 29 40]\n",
      " ['Female' 31 40]\n",
      " ['Female' 49 42]\n",
      " ['Male' 33 42]\n",
      " ['Female' 31 43]\n",
      " ['Male' 59 43]\n",
      " ['Female' 50 43]\n",
      " ['Male' 47 43]\n",
      " ['Female' 51 44]\n",
      " ['Male' 69 44]\n",
      " ['Female' 27 46]\n",
      " ['Male' 53 46]\n",
      " ['Male' 70 46]\n",
      " ['Male' 19 46]\n",
      " ['Female' 67 47]\n",
      " ['Female' 54 47]\n",
      " ['Male' 63 48]\n",
      " ['Male' 18 48]\n",
      " ['Female' 43 48]\n",
      " ['Female' 68 48]\n",
      " ['Male' 19 48]\n",
      " ['Female' 32 48]\n",
      " ['Male' 70 49]\n",
      " ['Female' 47 49]\n",
      " ['Female' 60 50]\n",
      " ['Female' 60 50]\n",
      " ['Male' 59 54]\n",
      " ['Male' 26 54]\n",
      " ['Female' 45 54]\n",
      " ['Male' 40 54]\n",
      " ['Female' 23 54]\n",
      " ['Female' 49 54]\n",
      " ['Male' 57 54]\n",
      " ['Male' 38 54]\n",
      " ['Male' 67 54]\n",
      " ['Female' 46 54]\n",
      " ['Female' 21 54]\n",
      " ['Male' 48 54]\n",
      " ['Female' 55 57]\n",
      " ['Female' 22 57]\n",
      " ['Female' 34 58]\n",
      " ['Female' 50 58]\n",
      " ['Female' 68 59]\n",
      " ['Male' 18 59]\n",
      " ['Male' 48 60]\n",
      " ['Female' 40 60]\n",
      " ['Female' 32 60]\n",
      " ['Male' 24 60]\n",
      " ['Female' 47 60]\n",
      " ['Female' 27 60]\n",
      " ['Male' 48 61]\n",
      " ['Male' 20 61]\n",
      " ['Female' 23 62]\n",
      " ['Female' 49 62]\n",
      " ['Male' 67 62]\n",
      " ['Male' 26 62]\n",
      " ['Male' 49 62]\n",
      " ['Female' 21 62]\n",
      " ['Female' 66 63]\n",
      " ['Male' 54 63]\n",
      " ['Male' 68 63]\n",
      " ['Male' 66 63]\n",
      " ['Male' 65 63]\n",
      " ['Female' 19 63]\n",
      " ['Female' 38 64]\n",
      " ['Male' 19 64]\n",
      " ['Female' 18 65]\n",
      " ['Female' 19 65]\n",
      " ['Female' 63 65]\n",
      " ['Female' 49 65]\n",
      " ['Female' 51 67]\n",
      " ['Female' 50 67]\n",
      " ['Male' 27 67]\n",
      " ['Female' 38 67]\n",
      " ['Female' 40 69]\n",
      " ['Male' 39 69]\n",
      " ['Female' 23 70]\n",
      " ['Female' 31 70]\n",
      " ['Male' 43 71]\n",
      " ['Male' 40 71]\n",
      " ['Male' 59 71]\n",
      " ['Male' 38 71]\n",
      " ['Male' 47 71]\n",
      " ['Male' 39 71]\n",
      " ['Female' 25 72]\n",
      " ['Female' 31 72]\n",
      " ['Male' 20 73]\n",
      " ['Female' 29 73]\n",
      " ['Female' 44 73]\n",
      " ['Male' 32 73]\n",
      " ['Male' 19 74]\n",
      " ['Female' 35 74]\n",
      " ['Female' 57 75]\n",
      " ['Male' 32 75]\n",
      " ['Female' 28 76]\n",
      " ['Female' 32 76]\n",
      " ['Male' 25 77]\n",
      " ['Male' 28 77]\n",
      " ['Male' 48 77]\n",
      " ['Female' 32 77]\n",
      " ['Female' 34 78]\n",
      " ['Male' 34 78]\n",
      " ['Male' 43 78]\n",
      " ['Male' 39 78]\n",
      " ['Female' 44 78]\n",
      " ['Female' 38 78]\n",
      " ['Female' 47 78]\n",
      " ['Female' 27 78]\n",
      " ['Male' 37 78]\n",
      " ['Female' 30 78]\n",
      " ['Male' 34 78]\n",
      " ['Female' 30 78]\n",
      " ['Female' 56 79]\n",
      " ['Female' 29 79]\n",
      " ['Male' 19 81]\n",
      " ['Female' 31 81]\n",
      " ['Male' 50 85]\n",
      " ['Female' 36 85]\n",
      " ['Male' 42 86]\n",
      " ['Female' 33 86]\n",
      " ['Female' 36 87]\n",
      " ['Male' 32 87]\n",
      " ['Male' 40 87]\n",
      " ['Male' 28 87]\n",
      " ['Male' 36 87]\n",
      " ['Male' 36 87]\n",
      " ['Female' 52 88]\n",
      " ['Female' 30 88]\n",
      " ['Male' 58 88]\n",
      " ['Male' 27 88]\n",
      " ['Male' 59 93]\n",
      " ['Male' 35 93]\n",
      " ['Female' 37 97]\n",
      " ['Female' 32 97]\n",
      " ['Male' 46 98]\n",
      " ['Female' 29 98]\n",
      " ['Female' 41 99]\n",
      " ['Male' 30 99]\n",
      " ['Female' 54 101]\n",
      " ['Male' 28 101]\n",
      " ['Female' 41 103]\n",
      " ['Female' 36 103]\n",
      " ['Female' 34 103]\n",
      " ['Female' 32 103]\n",
      " ['Male' 33 113]\n",
      " ['Female' 38 113]\n",
      " ['Female' 47 120]\n",
      " ['Female' 35 120]\n",
      " ['Female' 45 126]\n",
      " ['Male' 32 126]\n",
      " ['Male' 32 137]\n",
      " ['Male' 30 137]]\n"
     ]
    }
   ],
   "source": [
    "print(X)"
   ]
  },
  {
   "cell_type": "code",
   "execution_count": 9,
   "metadata": {},
   "outputs": [
    {
     "name": "stdout",
     "output_type": "stream",
     "text": [
      "0      39\n",
      "1      81\n",
      "2       6\n",
      "3      77\n",
      "4      40\n",
      "       ..\n",
      "195    79\n",
      "196    28\n",
      "197    74\n",
      "198    18\n",
      "199    83\n",
      "Name: Spending Score (1-100), Length: 200, dtype: int64\n"
     ]
    }
   ],
   "source": [
    "print(y)"
   ]
  },
  {
   "cell_type": "code",
   "execution_count": 21,
   "metadata": {},
   "outputs": [
    {
     "data": {
      "text/plain": [
       "<matplotlib.axes._subplots.AxesSubplot at 0xcdd4c8>"
      ]
     },
     "execution_count": 21,
     "metadata": {},
     "output_type": "execute_result"
    },
    {
     "data": {
      "image/png": "[encoded data removed]",
      "text/plain": [
       "<Figure size 432x288 with 1 Axes>"
      ]
     },
     "metadata": {
      "needs_background": "light"
     },
     "output_type": "display_data"
    }
   ],
   "source": [
    "data.plot(kind='box', layout=(4,4))"
   ]
  },
  {
   "cell_type": "code",
   "execution_count": 22,
   "metadata": {},
   "outputs": [
    {
     "data": {
      "text/plain": [
       "array([[<matplotlib.axes._subplots.AxesSubplot object at 0x000000000A0FE948>,\n",
       "        <matplotlib.axes._subplots.AxesSubplot object at 0x0000000005520808>],\n",
       "       [<matplotlib.axes._subplots.AxesSubplot object at 0x0000000005554F08>,\n",
       "        <matplotlib.axes._subplots.AxesSubplot object at 0x000000000558EF88>]],\n",
       "      dtype=object)"
      ]
     },
     "execution_count": 22,
     "metadata": {},
     "output_type": "execute_result"
    },
    {
     "data": {
      "image/png": "[encoded data removed]",
      "text/plain": [
       "<Figure size 432x288 with 4 Axes>"
      ]
     },
     "metadata": {
      "needs_background": "light"
     },
     "output_type": "display_data"
    }
   ],
   "source": [
    "data.hist()"
   ]
  },
  {
   "cell_type": "code",
   "execution_count": 24,
   "metadata": {},
   "outputs": [
    {
     "data": {
      "image/png": "[encoded data removed]",
      "text/plain": [
       "<Figure size 432x288 with 16 Axes>"
      ]
     },
     "metadata": {
      "needs_background": "light"
     },
     "output_type": "display_data"
    }
   ],
   "source": [
    "from pandas.plotting import scatter_matrix\n",
    "\n",
    "scatter_matrix(data)\n",
    "plt.show()"
   ]
  },
  {
   "cell_type": "code",
   "execution_count": 25,
   "metadata": {},
   "outputs": [
    {
     "data": {
      "text/plain": [
       "<matplotlib.axes._subplots.AxesSubplot at 0xb998508>"
      ]
     },
     "execution_count": 25,
     "metadata": {},
     "output_type": "execute_result"
    },
    {
     "data": {
      "image/png": "[encoded data removed]",
      "text/plain": [
       "<Figure size 432x288 with 1 Axes>"
      ]
     },
     "metadata": {
      "needs_background": "light"
     },
     "output_type": "display_data"
    }
   ],
   "source": [
    "sns.countplot(x=\"Age\",data=data)"
   ]
  },
  {
   "cell_type": "code",
   "execution_count": 27,
   "metadata": {},
   "outputs": [
    {
     "data": {
      "text/plain": [
       "<matplotlib.axes._subplots.AxesSubplot at 0xc10ba88>"
      ]
     },
     "execution_count": 27,
     "metadata": {},
     "output_type": "execute_result"
    },
    {
     "data": {
      "image/png": "[encoded data removed]",
      "text/plain": [
       "<Figure size 432x288 with 1 Axes>"
      ]
     },
     "metadata": {
      "needs_background": "light"
     },
     "output_type": "display_data"
    }
   ],
   "source": [
    "sns.countplot(x=\"Spending Score (1-100)\",data=data)"
   ]
  },
  {
   "cell_type": "code",
   "execution_count": 28,
   "metadata": {},
   "outputs": [
    {
     "data": {
      "text/plain": [
       "<matplotlib.axes._subplots.AxesSubplot at 0xc3006c8>"
      ]
     },
     "execution_count": 28,
     "metadata": {},
     "output_type": "execute_result"
    },
    {
     "data": {
      "image/png": "[encoded data removed]",
      "text/plain": [
       "<Figure size 432x288 with 1 Axes>"
      ]
     },
     "metadata": {
      "needs_background": "light"
     },
     "output_type": "display_data"
    }
   ],
   "source": [
    "data[\"Spending Score (1-100)\"].hist()"
   ]
  },
  {
   "cell_type": "code",
   "execution_count": null,
   "metadata": {},
   "outputs": [],
   "source": []
  }
 ],
 "metadata": {
  "kernelspec": {
   "display_name": "Python 3",
   "language": "python",
   "name": "python3"
  },
  "language_info": {
   "codemirror_mode": {
    "name": "ipython",
    "version": 3
   },
   "file_extension": ".py",
   "mimetype": "text/x-python",
   "name": "python",
   "nbconvert_exporter": "python",
   "pygments_lexer": "ipython3",
   "version": "3.7.4"
  }
 },
 "nbformat": 4,
 "nbformat_minor": 2
}
